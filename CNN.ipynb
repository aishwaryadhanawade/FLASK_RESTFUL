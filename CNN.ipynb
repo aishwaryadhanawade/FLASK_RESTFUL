{
 "cells": [
  {
   "cell_type": "code",
   "execution_count": 1,
   "id": "4b4bad8e",
   "metadata": {},
   "outputs": [
    {
     "name": "stderr",
     "output_type": "stream",
     "text": [
      "2023-07-18 17:34:26.328178: I tensorflow/tsl/cuda/cudart_stub.cc:28] Could not find cuda drivers on your machine, GPU will not be used.\n",
      "2023-07-18 17:34:26.373430: I tensorflow/tsl/cuda/cudart_stub.cc:28] Could not find cuda drivers on your machine, GPU will not be used.\n",
      "2023-07-18 17:34:26.374498: I tensorflow/core/platform/cpu_feature_guard.cc:182] This TensorFlow binary is optimized to use available CPU instructions in performance-critical operations.\n",
      "To enable the following instructions: AVX2 FMA, in other operations, rebuild TensorFlow with the appropriate compiler flags.\n",
      "2023-07-18 17:34:27.259062: W tensorflow/compiler/tf2tensorrt/utils/py_utils.cc:38] TF-TRT Warning: Could not find TensorRT\n"
     ]
    }
   ],
   "source": [
    "import tensorflow as tf\n",
    "from keras.preprocessing.image import ImageDataGenerator\n"
   ]
  },
  {
   "cell_type": "code",
   "execution_count": 5,
   "id": "c05a99b9",
   "metadata": {
    "scrolled": true
   },
   "outputs": [],
   "source": [
    "train_datagen= ImageDataGenerator(\n",
    "rescale=1./255,\n",
    "shear_range=0.2,\n",
    "zoom_range=0.2,\n",
    "horizontal_flip=True)"
   ]
  },
  {
   "cell_type": "code",
   "execution_count": 6,
   "id": "b79fbf95",
   "metadata": {},
   "outputs": [
    {
     "name": "stdout",
     "output_type": "stream",
     "text": [
      "Found 8000 images belonging to 2 classes.\n"
     ]
    }
   ],
   "source": [
    "training_set=train_datagen.flow_from_directory(\n",
    "'dataset/training_set',\n",
    "target_size=(64,64),\n",
    "batch_size=32,\n",
    "class_mode='binary')"
   ]
  },
  {
   "cell_type": "code",
   "execution_count": 9,
   "id": "ca06ac25",
   "metadata": {},
   "outputs": [
    {
     "name": "stdout",
     "output_type": "stream",
     "text": [
      "Found 2000 images belonging to 2 classes.\n"
     ]
    }
   ],
   "source": [
    "test_datagen= ImageDataGenerator(rescale=1./255)\n",
    "testing_set=test_datagen.flow_from_directory(\n",
    "'dataset/test_set',\n",
    "target_size=(64,64),\n",
    "batch_size=32,\n",
    "class_mode='binary')"
   ]
  },
  {
   "cell_type": "code",
   "execution_count": 10,
   "id": "473109aa",
   "metadata": {},
   "outputs": [],
   "source": [
    "cnn= tf.keras.models.Sequential()"
   ]
  },
  {
   "cell_type": "code",
   "execution_count": 11,
   "id": "6224b17c",
   "metadata": {},
   "outputs": [],
   "source": [
    "cnn.add(tf.keras.layers.Conv2D(filters=32,kernel_size=3,activation='relu',input_shape=[64,64,3]))"
   ]
  },
  {
   "cell_type": "code",
   "execution_count": 12,
   "id": "454c6ae3",
   "metadata": {},
   "outputs": [],
   "source": [
    "cnn.add(tf.keras.layers.MaxPool2D(pool_size=2,strides=2))"
   ]
  },
  {
   "cell_type": "code",
   "execution_count": 13,
   "id": "297bf381",
   "metadata": {},
   "outputs": [],
   "source": [
    "cnn.add(tf.keras.layers.Conv2D(filters=32,kernel_size=3,activation='relu'))"
   ]
  },
  {
   "cell_type": "code",
   "execution_count": 14,
   "id": "1402ae1b",
   "metadata": {},
   "outputs": [],
   "source": [
    "cnn.add(tf.keras.layers.MaxPool2D(pool_size=2,strides=2))"
   ]
  },
  {
   "cell_type": "code",
   "execution_count": 15,
   "id": "c692bb68",
   "metadata": {},
   "outputs": [],
   "source": [
    "cnn.add(tf.keras.layers.Flatten())"
   ]
  },
  {
   "cell_type": "code",
   "execution_count": 16,
   "id": "4d611db7",
   "metadata": {},
   "outputs": [],
   "source": [
    "cnn.add(tf.keras.layers.Dense(units=128, activation='relu'))"
   ]
  },
  {
   "cell_type": "code",
   "execution_count": 17,
   "id": "09dd3e3c",
   "metadata": {},
   "outputs": [],
   "source": [
    "cnn.add(tf.keras.layers.Dense(units=1, activation='sigmoid'))"
   ]
  },
  {
   "cell_type": "code",
   "execution_count": 18,
   "id": "3a3b43bc",
   "metadata": {},
   "outputs": [],
   "source": [
    "cnn.compile(optimizer='adam', loss='binary_crossentropy',metrics=['accuracy'])"
   ]
  },
  {
   "cell_type": "code",
   "execution_count": 19,
   "id": "28ee9f6b",
   "metadata": {},
   "outputs": [
    {
     "name": "stdout",
     "output_type": "stream",
     "text": [
      "Epoch 1/25\n",
      "250/250 [==============================] - 35s 135ms/step - loss: 0.6685 - accuracy: 0.5929 - val_loss: 0.6014 - val_accuracy: 0.6810\n",
      "Epoch 2/25\n",
      "250/250 [==============================] - 27s 106ms/step - loss: 0.5984 - accuracy: 0.6743 - val_loss: 0.7380 - val_accuracy: 0.6175\n",
      "Epoch 3/25\n",
      "250/250 [==============================] - 27s 107ms/step - loss: 0.5512 - accuracy: 0.7146 - val_loss: 0.5332 - val_accuracy: 0.7500\n",
      "Epoch 4/25\n",
      "250/250 [==============================] - 27s 108ms/step - loss: 0.5216 - accuracy: 0.7410 - val_loss: 0.5748 - val_accuracy: 0.7235\n",
      "Epoch 5/25\n",
      "250/250 [==============================] - 26s 105ms/step - loss: 0.5008 - accuracy: 0.7549 - val_loss: 0.4979 - val_accuracy: 0.7550\n",
      "Epoch 6/25\n",
      "250/250 [==============================] - 26s 105ms/step - loss: 0.4891 - accuracy: 0.7665 - val_loss: 0.4968 - val_accuracy: 0.7670\n",
      "Epoch 7/25\n",
      "250/250 [==============================] - 27s 109ms/step - loss: 0.4770 - accuracy: 0.7689 - val_loss: 0.4941 - val_accuracy: 0.7575\n",
      "Epoch 8/25\n",
      "250/250 [==============================] - 27s 109ms/step - loss: 0.4610 - accuracy: 0.7859 - val_loss: 0.5127 - val_accuracy: 0.7675\n",
      "Epoch 9/25\n",
      "250/250 [==============================] - 28s 110ms/step - loss: 0.4460 - accuracy: 0.7893 - val_loss: 0.4739 - val_accuracy: 0.7770\n",
      "Epoch 10/25\n",
      "250/250 [==============================] - 27s 108ms/step - loss: 0.4365 - accuracy: 0.7922 - val_loss: 0.4687 - val_accuracy: 0.7740\n",
      "Epoch 11/25\n",
      "250/250 [==============================] - 27s 108ms/step - loss: 0.4243 - accuracy: 0.8027 - val_loss: 0.4728 - val_accuracy: 0.7870\n",
      "Epoch 12/25\n",
      "250/250 [==============================] - 28s 111ms/step - loss: 0.4081 - accuracy: 0.8106 - val_loss: 0.4809 - val_accuracy: 0.7715\n",
      "Epoch 13/25\n",
      "250/250 [==============================] - 27s 110ms/step - loss: 0.4058 - accuracy: 0.8133 - val_loss: 0.4876 - val_accuracy: 0.7655\n",
      "Epoch 14/25\n",
      "250/250 [==============================] - 27s 108ms/step - loss: 0.3888 - accuracy: 0.8209 - val_loss: 0.5889 - val_accuracy: 0.7410\n",
      "Epoch 15/25\n",
      "250/250 [==============================] - 27s 108ms/step - loss: 0.3706 - accuracy: 0.8360 - val_loss: 0.4748 - val_accuracy: 0.7830\n",
      "Epoch 16/25\n",
      "250/250 [==============================] - 27s 108ms/step - loss: 0.3632 - accuracy: 0.8341 - val_loss: 0.5333 - val_accuracy: 0.7690\n",
      "Epoch 17/25\n",
      "250/250 [==============================] - 27s 108ms/step - loss: 0.3548 - accuracy: 0.8439 - val_loss: 0.4651 - val_accuracy: 0.7945\n",
      "Epoch 18/25\n",
      "250/250 [==============================] - 27s 109ms/step - loss: 0.3541 - accuracy: 0.8416 - val_loss: 0.4682 - val_accuracy: 0.7940\n",
      "Epoch 19/25\n",
      "250/250 [==============================] - 27s 108ms/step - loss: 0.3348 - accuracy: 0.8533 - val_loss: 0.4887 - val_accuracy: 0.7925\n",
      "Epoch 20/25\n",
      "250/250 [==============================] - 27s 108ms/step - loss: 0.3299 - accuracy: 0.8530 - val_loss: 0.4806 - val_accuracy: 0.7950\n",
      "Epoch 21/25\n",
      "250/250 [==============================] - 27s 108ms/step - loss: 0.3187 - accuracy: 0.8639 - val_loss: 0.5085 - val_accuracy: 0.7945\n",
      "Epoch 22/25\n",
      "250/250 [==============================] - 27s 107ms/step - loss: 0.3119 - accuracy: 0.8633 - val_loss: 0.4920 - val_accuracy: 0.8020\n",
      "Epoch 23/25\n",
      "250/250 [==============================] - 27s 108ms/step - loss: 0.2979 - accuracy: 0.8694 - val_loss: 0.4903 - val_accuracy: 0.8015\n",
      "Epoch 24/25\n",
      "250/250 [==============================] - 27s 108ms/step - loss: 0.2869 - accuracy: 0.8759 - val_loss: 0.4770 - val_accuracy: 0.8020\n",
      "Epoch 25/25\n",
      "250/250 [==============================] - 27s 109ms/step - loss: 0.2787 - accuracy: 0.8808 - val_loss: 0.4883 - val_accuracy: 0.8035\n"
     ]
    },
    {
     "data": {
      "text/plain": [
       "<keras.src.callbacks.History at 0x7f1af2882cd0>"
      ]
     },
     "execution_count": 19,
     "metadata": {},
     "output_type": "execute_result"
    }
   ],
   "source": [
    "cnn.fit(x=training_set, validation_data=testing_set,epochs=25)"
   ]
  },
  {
   "cell_type": "code",
   "execution_count": 34,
   "id": "1966cd94",
   "metadata": {},
   "outputs": [
    {
     "name": "stdout",
     "output_type": "stream",
     "text": [
      "1/1 [==============================] - 0s 17ms/step\n"
     ]
    }
   ],
   "source": [
    "import numpy as np\n",
    "from keras.preprocessing import image\n",
    "test_image=image.load_img('dataset/single_prediction/cat_or_dog_2.jpg',target_size=(64,64))\n",
    "test_image= image.img_to_array(test_image)\n",
    "test_image=np.expand_dims(test_image,axis=0)\n",
    "result=cnn.predict(test_image)\n",
    "training_set.class_indices\n",
    "if result[0][0]==1:\n",
    "    predition='dog'\n",
    "else:\n",
    "    predition='cat'\n"
   ]
  },
  {
   "cell_type": "code",
   "execution_count": 35,
   "id": "8768bafd",
   "metadata": {},
   "outputs": [
    {
     "name": "stdout",
     "output_type": "stream",
     "text": [
      "cat\n"
     ]
    }
   ],
   "source": [
    "print(predition)"
   ]
  },
  {
   "cell_type": "code",
   "execution_count": null,
   "id": "bcf412eb",
   "metadata": {},
   "outputs": [],
   "source": []
  }
 ],
 "metadata": {
  "kernelspec": {
   "display_name": "Python 3 (ipykernel)",
   "language": "python",
   "name": "python3"
  },
  "language_info": {
   "codemirror_mode": {
    "name": "ipython",
    "version": 3
   },
   "file_extension": ".py",
   "mimetype": "text/x-python",
   "name": "python",
   "nbconvert_exporter": "python",
   "pygments_lexer": "ipython3",
   "version": "3.8.10"
  }
 },
 "nbformat": 4,
 "nbformat_minor": 5
}
